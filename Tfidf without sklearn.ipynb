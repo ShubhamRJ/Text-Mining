{
 "cells": [
  {
   "cell_type": "code",
   "execution_count": 1,
   "metadata": {},
   "outputs": [],
   "source": [
    "#Imports \n",
    "from nltk.tokenize import word_tokenize\n",
    "import os\n",
    "import re\n",
    "import math\n",
    "import pandas as pd"
   ]
  },
  {
   "cell_type": "code",
   "execution_count": 2,
   "metadata": {},
   "outputs": [],
   "source": [
    "#Tokenization of each text file\n",
    "tokenized_files=[]\n",
    "os.chdir(\"Your directory path")\n",
    "directories = os.listdir()\n",
    "for directory in directories:\n",
    "    path=os.path.join(os.getcwd(),directory)\n",
    "    os.chdir(path)\n",
    "    files = os.listdir()\n",
    "    for file in files:\n",
    "        with open(file,'r') as curr_file:\n",
    "            s = curr_file.read()\n",
    "            s = re.sub(r'[^\\w\\s]','',s)\n",
    "            tokenized_files.append(word_tokenize(s))\n",
    "    os.chdir('..')"
   ]
  },
  {
   "cell_type": "code",
   "execution_count": 3,
   "metadata": {},
   "outputs": [],
   "source": [
    "#Creating a unique set of all words\n",
    "wordset=[]\n",
    "for listi in tokenized_files:\n",
    "    for words in listi:\n",
    "        if not words.isdigit():\n",
    "            wordset.append(words)\n",
    "        \n",
    "wordset = list(set(wordset))"
   ]
  },
  {
   "cell_type": "code",
   "execution_count": 4,
   "metadata": {},
   "outputs": [],
   "source": [
    "#Calculating the frequency of occurence of a specific word among all documents\n",
    "wordFreq={}\n",
    "for word in wordset:\n",
    "    count=0\n",
    "    for listj in tokenized_files:\n",
    "        if word in listj:\n",
    "            count+=1\n",
    "    wordFreq[word]=count"
   ]
  },
  {
   "cell_type": "code",
   "execution_count": 13,
   "metadata": {},
   "outputs": [],
   "source": [
    "#Calculating the tf-idf values for all words in the wordset for all documents\n",
    "directory_tfid={}\n",
    "total = len(tokenized_files)\n",
    "file_number=0\n",
    "for i in tokenized_files:\n",
    "    file_tfidf = {}\n",
    "    file_number+=1\n",
    "    n = len(i)\n",
    "    temp_list=list(set(i))\n",
    "    for j in wordset:\n",
    "        a = i.count(j)\n",
    "        tf = a/float(n)\n",
    "        idf= math.log(total/float(wordFreq[j]))\n",
    "        if tf*idf!=0:\n",
    "            file_tfidf[j]=tf*idf\n",
    "    directory_tfid[file_number]=file_tfidf\n",
    "        "
   ]
  },
  {
   "cell_type": "code",
   "execution_count": 14,
   "metadata": {},
   "outputs": [
    {
     "name": "stdout",
     "output_type": "stream",
     "text": [
      "15327\n"
     ]
    }
   ],
   "source": [
    "print(len(wordset))"
   ]
  },
  {
   "cell_type": "code",
   "execution_count": null,
   "metadata": {},
   "outputs": [],
   "source": []
  }
 ],
 "metadata": {
  "kernelspec": {
   "display_name": "Python 3",
   "language": "python",
   "name": "python3"
  },
  "language_info": {
   "codemirror_mode": {
    "name": "ipython",
    "version": 3
   },
   "file_extension": ".py",
   "mimetype": "text/x-python",
   "name": "python",
   "nbconvert_exporter": "python",
   "pygments_lexer": "ipython3",
   "version": "3.6.4"
  }
 },
 "nbformat": 4,
 "nbformat_minor": 2
}
